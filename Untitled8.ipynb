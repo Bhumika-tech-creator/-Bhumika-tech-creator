{
  "nbformat": 4,
  "nbformat_minor": 0,
  "metadata": {
    "colab": {
      "provenance": [],
      "authorship_tag": "ABX9TyNcBngWXT0L+h8Lw9mzyEjE",
      "include_colab_link": true
    },
    "kernelspec": {
      "name": "python3",
      "display_name": "Python 3"
    },
    "language_info": {
      "name": "python"
    }
  },
  "cells": [
    {
      "cell_type": "markdown",
      "metadata": {
        "id": "view-in-github",
        "colab_type": "text"
      },
      "source": [
        "<a href=\"https://colab.research.google.com/github/Bhumika-tech-creator/-Bhumika-tech-creator/blob/main/Untitled8.ipynb\" target=\"_parent\"><img src=\"https://colab.research.google.com/assets/colab-badge.svg\" alt=\"Open In Colab\"/></a>"
      ]
    },
    {
      "cell_type": "code",
      "execution_count": 3,
      "metadata": {
        "colab": {
          "base_uri": "https://localhost:8080/"
        },
        "id": "eNS4_0CQLzVG",
        "outputId": "9b5796e3-e235-4bb6-8651-5eaa2ac499a9"
      },
      "outputs": [
        {
          "output_type": "stream",
          "name": "stdout",
          "text": [
            "✔ Valid product combinations with total price between 290 and 310:\n",
            "\n",
            "('p1', 'p4', 'p5', 'p6', 'p7') => Total Price: 150\n",
            "('p2', 'p3', 'p5', 'p6', 'p7') => Total Price: 150\n",
            "('p2', 'p4', 'p5', 'p6', 'p7') => Total Price: 155\n",
            "('p3', 'p4', 'p5', 'p6', 'p7') => Total Price: 160\n",
            "('p1', 'p2', 'p3', 'p4', 'p5', 'p7') => Total Price: 150\n",
            "('p1', 'p2', 'p3', 'p4', 'p6', 'p7') => Total Price: 155\n",
            "('p1', 'p2', 'p3', 'p5', 'p6', 'p7') => Total Price: 160\n",
            "('p1', 'p2', 'p4', 'p5', 'p6', 'p7') => Total Price: 165\n",
            "('p1', 'p3', 'p4', 'p5', 'p6', 'p7') => Total Price: 170\n",
            "('p2', 'p3', 'p4', 'p5', 'p6', 'p7') => Total Price: 175\n",
            "('p1', 'p2', 'p3', 'p4', 'p5', 'p6', 'p7') => Total Price: 185\n"
          ]
        }
      ],
      "source": [
        "from itertools import combinations\n",
        "\n",
        "\n",
        "product_list = {\n",
        "    \"p1\": 10,\n",
        "    \"p2\": 15,\n",
        "    \"p3\": 20,\n",
        "    \"p4\": 25,\n",
        "    \"p5\": 30,\n",
        "    \"p6\": 35,\n",
        "    \"p7\": 50\n",
        "}\n",
        "\n",
        "\n",
        "min_price = 150\n",
        "max_price = 190\n",
        "\n",
        "valid_combos = []\n",
        "\n",
        "product_keys = list(product_list.keys())\n",
        "\n",
        "\n",
        "for r in range(1, len(product_keys) + 1):\n",
        "    for combo in combinations(product_keys, r):\n",
        "        total = sum(product_list[p] for p in combo)\n",
        "        if min_price <= total <= max_price:\n",
        "            valid_combos.append((combo, total))\n",
        "\n",
        "\n",
        "print(\"✔ Valid product combinations with total price between 290 and 310:\\n\")\n",
        "for combo, price in valid_combos:\n",
        "    print(f\"{combo} => Total Price: {price}\")"
      ]
    }
  ]
}